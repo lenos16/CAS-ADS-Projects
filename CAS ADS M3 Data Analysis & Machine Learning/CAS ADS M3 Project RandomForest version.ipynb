{
 "cells": [
  {
   "cell_type": "markdown",
   "id": "a5fd6986",
   "metadata": {},
   "source": [
    "# Stock Price Prediction\n",
    "\n",
    "Let's say we want to make money by buying stocks.  Since we want to make money, we only want to buy stock on days when the price will go up (we're against shorting the stock).  We'll create a machine learning algorithm to predict if the stock price will increase tomorrow.  If the algorithm says that the price will increase, we'll buy stock.  If the algorithm says that the price will go down, we won't do anything.\n",
    "\n",
    "We want to maximize our `true positives` - days when the algorithm predicts that the price will go up, and it actually goes go up.  Therefore, we'll be using precision as our error metric for our algorithm, which is `true positives / (false positives + true positives)`.  This will ensure that we minimize how much money we lose with `false positives` (days when we buy the stock, but the price actually goes down).\n",
    "\n",
    "This means that we will have to accept a lot of `false negatives` - days when we predict that the price will go down, but it actually goes up.  This is okay, since we'd rather minimize our potential losses than maximize our potential gains.\n",
    "\n",
    "## Method\n",
    "\n",
    "Before we get to the machine learning, we need to do a lot of work to acquire and clean up the data.  Here are the steps we'll follow:\n",
    "\n",
    "* Download historical stock prices from Yahoo finance\n",
    "* Explore the data\n",
    "* Setup the dataset to predict future prices using historical prices\n",
    "* Test a machine learning model\n",
    "* Setup a backtesting engine\n",
    "* Improve the accuracy of the model\n",
    "\n",
    "At the end, we'll document some potential future directions we can go in to improve the technique."
   ]
  },
  {
   "cell_type": "markdown",
   "id": "f4339171",
   "metadata": {},
   "source": [
    "## Downloading the data\n",
    "\n",
    "First, we'll download the data from Yahoo Finance.  We'll save the data after we download it, so we don't have to re-download it every time (this could cause our IP to get blocked).\n",
    "\n",
    "We'll use data for a single stock (Microsoft) from when it started trading to the present."
   ]
  },
  {
   "cell_type": "code",
   "execution_count": 84,
   "id": "b9a5388e",
   "metadata": {},
   "outputs": [],
   "source": [
    "# Import finance API and get historical stock data\n",
    "\n",
    "import yfinance as yf\n",
    "import os\n",
    "import json\n",
    "import pandas as pd\n",
    "DATA_PATH = \"hein_data.json\"\n",
    "\n",
    "if os.path.exists(DATA_PATH):\n",
    "    # Read from file if we've already downloaded the data.\n",
    "    with open(DATA_PATH) as f:\n",
    "        hein_hist = pd.read_json(DATA_PATH)\n",
    "else:\n",
    "    hein = yf.Ticker(\"HEIA.AS\")\n",
    "    hein_hist = hein.history(start=\"2000-01-01\", end=\"2020-12-31\", interval=\"1d\")\n",
    "\n",
    "    # Save file to json in case we need it later.  This prevents us from having to re-download it every time.\n",
    "    hein_hist.to_json(DATA_PATH)"
   ]
  },
  {
   "cell_type": "markdown",
   "id": "ba4d7606",
   "metadata": {},
   "source": [
    "As we can see, we have one row of data for each day that Microsoft stock was traded.  Here are the columns:\n",
    "\n",
    "* Open - the price the stock opened at.\n",
    "* High - the highest price during the day\n",
    "* Low - the lowest price during the day\n",
    "* Close - the closing price on the trading day\n",
    "* Volume - how many shares were traded\n",
    "\n",
    "Stock doesn't trade every day (there is no trading on weekends and holidays), so some dates are missing."
   ]
  },
  {
   "cell_type": "code",
   "execution_count": 85,
   "id": "517606dc",
   "metadata": {},
   "outputs": [
    {
     "name": "stdout",
     "output_type": "stream",
     "text": [
      "                 Open       High        Low      Close   Volume  Dividends  \\\n",
      "2000-01-03  24.903547  24.980488  24.621427  24.688110   617080        0.0   \n",
      "2000-01-04  24.626560  24.626560  23.390358  23.390358  2100402        0.0   \n",
      "2000-01-05  23.108236  24.236717  23.082588  23.800713  3871423        0.0   \n",
      "2000-01-06  23.646828  25.672966  23.595532  25.395975  5494813        0.0   \n",
      "2000-01-07  25.698615  26.801448  25.698615  25.775557  5407766        0.0   \n",
      "\n",
      "            Stock Splits  \n",
      "2000-01-03             0  \n",
      "2000-01-04             0  \n",
      "2000-01-05             0  \n",
      "2000-01-06             0  \n",
      "2000-01-07             0  \n",
      "                 Open       High        Low      Close  Volume  Dividends  \\\n",
      "2020-12-23  87.133819  87.985161  86.916041  87.787178  237161        0.0   \n",
      "2020-12-24  87.905974  88.757317  87.727786  88.757317  111236        0.0   \n",
      "2020-12-28  88.737514  88.876104  87.727787  88.103958  225697        0.0   \n",
      "2020-12-29  88.381138  90.440198  88.301941  90.222412  419433        0.0   \n",
      "2020-12-30  90.083819  90.301605  88.915699  90.301605  439310        0.0   \n",
      "\n",
      "            Stock Splits  \n",
      "2020-12-23             0  \n",
      "2020-12-24             0  \n",
      "2020-12-28             0  \n",
      "2020-12-29             0  \n",
      "2020-12-30             0  \n",
      "              Open         High          Low        Close        Volume  \\\n",
      "count  5404.000000  5404.000000  5404.000000  5404.000000  5.404000e+03   \n",
      "mean     42.928352    43.313693    42.528833    42.930200  1.123791e+06   \n",
      "std      23.687025    23.838021    23.540388    23.697906  7.585343e+05   \n",
      "min      15.140639    15.926897    14.785780    15.519159  0.000000e+00   \n",
      "25%      25.647039    25.961810    25.250597    25.648674  6.364745e+05   \n",
      "50%      31.238433    31.593414    30.879379    31.188513  9.130560e+05   \n",
      "75%      65.191803    65.583958    64.650077    65.074755  1.410422e+06   \n",
      "max     101.823512   102.506892   101.530632   102.458076  8.319726e+06   \n",
      "\n",
      "         Dividends  Stock Splits  \n",
      "count  5404.000000        5404.0  \n",
      "mean      0.003762           0.0  \n",
      "std       0.052092           0.0  \n",
      "min       0.000000           0.0  \n",
      "25%       0.000000           0.0  \n",
      "50%       0.000000           0.0  \n",
      "75%       0.000000           0.0  \n",
      "max       2.000000           0.0  \n"
     ]
    }
   ],
   "source": [
    "print(hein_hist.head(5))\n",
    "print(hein_hist.tail(5))\n",
    "print(hein_hist.describe())"
   ]
  },
  {
   "cell_type": "markdown",
   "id": "3a7c7952",
   "metadata": {},
   "source": [
    "Next, we'll plot the data so we can see how the stock price has changed over time.  This gives us another overview of the structure of the data."
   ]
  },
  {
   "cell_type": "code",
   "execution_count": 86,
   "id": "06727ee4",
   "metadata": {},
   "outputs": [
    {
     "data": {
      "text/plain": [
       "<AxesSubplot:>"
      ]
     },
     "execution_count": 86,
     "metadata": {},
     "output_type": "execute_result"
    },
    {
     "data": {
      "image/png": "[encoded data removed]",
      "text/plain": [
       "<Figure size 432x288 with 1 Axes>"
      ]
     },
     "metadata": {
      "needs_background": "light"
     },
     "output_type": "display_data"
    }
   ],
   "source": [
    "hein_hist.plot.line(y='Close', use_index=True)"
   ]
  },
  {
   "cell_type": "markdown",
   "id": "bd151a98",
   "metadata": {},
   "source": [
    "## Preparing the data\n",
    "\n",
    "\n",
    "Now, let's prepare the data so we can make predictions.  We'll be predicting if the price will go up or down tomorrow based on data from today.\n",
    "\n",
    "First, we'll identify a target that we're trying to predict.  Our target will be if the price will go up or down tomorrow.  If the price went up, the target will be `1` and if it went down, the target will be `0`.\n",
    "\n",
    "Next, we'll shift the data from previous days \"forward\" one day, so we can use it to predict the target price.  This ensures that we don't accidentally use data from the same day to make predictions! (a very common mistake)\n",
    "\n",
    "Then, we'll combine both so we have our training data."
   ]
  },
  {
   "cell_type": "code",
   "execution_count": 66,
   "id": "b3e672e9",
   "metadata": {},
   "outputs": [],
   "source": [
    "# Ensure we know the actual closing price\n",
    "data = hein_hist[[\"Close\"]]\n",
    "data = data.rename(columns = {'Close':'Actual_Close'})\n",
    "\n",
    "# Setup our target.  This identifies if the price went up or down\n",
    "data[\"Target\"] = hein_hist.rolling(2).apply(lambda x: x.iloc[1] > x.iloc[0])[\"Close\"]"
   ]
  },
  {
   "cell_type": "code",
   "execution_count": 67,
   "id": "9aaeeedf",
   "metadata": {},
   "outputs": [],
   "source": [
    "# Shift stock prices forward one day, so we're predicting tomorrow's stock prices from today's prices.\n",
    "hein_prev = hein_hist.copy()\n",
    "hein_prev = hein_prev.shift(1)"
   ]
  },
  {
   "cell_type": "code",
   "execution_count": 68,
   "id": "691df82b",
   "metadata": {},
   "outputs": [],
   "source": [
    "# Create our training data\n",
    "predictors = [\"Close\", \"Volume\", \"Open\", \"High\", \"Low\"]\n",
    "data = data.join(hein_prev[predictors]).iloc[1:]"
   ]
  },
  {
   "cell_type": "code",
   "execution_count": 69,
   "id": "b0700eed",
   "metadata": {},
   "outputs": [
    {
     "data": {
      "text/html": [
       "<div><div id=42acc3ab-cfac-48d1-a72c-198e8968bfd1 style=\"display:none; background-color:#9D6CFF; color:white; width:200px; height:30px; padding-left:5px; border-radius:4px; flex-direction:row; justify-content:space-around; align-items:center;\" onmouseover=\"this.style.backgroundColor='#BA9BF8'\" onmouseout=\"this.style.backgroundColor='#9D6CFF'\" onclick=\"window.commands?.execute('create-mitosheet-from-dataframe-output');\">See Full Dataframe in Mito</div> <script> if (window.commands.hasCommand('create-mitosheet-from-dataframe-output')) document.getElementById('42acc3ab-cfac-48d1-a72c-198e8968bfd1').style.display = 'flex' </script> <table border=\"1\" class=\"dataframe\">\n",
       "  <thead>\n",
       "    <tr style=\"text-align: right;\">\n",
       "      <th></th>\n",
       "      <th>Actual_Close</th>\n",
       "      <th>Target</th>\n",
       "      <th>Close</th>\n",
       "      <th>Volume</th>\n",
       "      <th>Open</th>\n",
       "      <th>High</th>\n",
       "      <th>Low</th>\n",
       "    </tr>\n",
       "    <tr>\n",
       "      <th>Date</th>\n",
       "      <th></th>\n",
       "      <th></th>\n",
       "      <th></th>\n",
       "      <th></th>\n",
       "      <th></th>\n",
       "      <th></th>\n",
       "      <th></th>\n",
       "    </tr>\n",
       "  </thead>\n",
       "  <tbody>\n",
       "    <tr>\n",
       "      <th>2000-01-04</th>\n",
       "      <td>23.390358</td>\n",
       "      <td>0.0</td>\n",
       "      <td>24.688110</td>\n",
       "      <td>617080.0</td>\n",
       "      <td>24.903547</td>\n",
       "      <td>24.980488</td>\n",
       "      <td>24.621427</td>\n",
       "    </tr>\n",
       "    <tr>\n",
       "      <th>2000-01-05</th>\n",
       "      <td>23.800713</td>\n",
       "      <td>1.0</td>\n",
       "      <td>23.390358</td>\n",
       "      <td>2100402.0</td>\n",
       "      <td>24.626560</td>\n",
       "      <td>24.626560</td>\n",
       "      <td>23.390358</td>\n",
       "    </tr>\n",
       "    <tr>\n",
       "      <th>2000-01-06</th>\n",
       "      <td>25.395975</td>\n",
       "      <td>1.0</td>\n",
       "      <td>23.800713</td>\n",
       "      <td>3871423.0</td>\n",
       "      <td>23.108236</td>\n",
       "      <td>24.236717</td>\n",
       "      <td>23.082588</td>\n",
       "    </tr>\n",
       "    <tr>\n",
       "      <th>2000-01-07</th>\n",
       "      <td>25.775557</td>\n",
       "      <td>1.0</td>\n",
       "      <td>25.395975</td>\n",
       "      <td>5494813.0</td>\n",
       "      <td>23.646828</td>\n",
       "      <td>25.672966</td>\n",
       "      <td>23.595532</td>\n",
       "    </tr>\n",
       "    <tr>\n",
       "      <th>2000-01-10</th>\n",
       "      <td>26.647564</td>\n",
       "      <td>1.0</td>\n",
       "      <td>25.775557</td>\n",
       "      <td>5407766.0</td>\n",
       "      <td>25.698615</td>\n",
       "      <td>26.801448</td>\n",
       "      <td>25.698615</td>\n",
       "    </tr>\n",
       "  </tbody>\n",
       "</table></div>"
      ],
      "text/plain": [
       "            Actual_Close  Target      Close     Volume       Open       High  \\\n",
       "Date                                                                           \n",
       "2000-01-04     23.390358     0.0  24.688110   617080.0  24.903547  24.980488   \n",
       "2000-01-05     23.800713     1.0  23.390358  2100402.0  24.626560  24.626560   \n",
       "2000-01-06     25.395975     1.0  23.800713  3871423.0  23.108236  24.236717   \n",
       "2000-01-07     25.775557     1.0  25.395975  5494813.0  23.646828  25.672966   \n",
       "2000-01-10     26.647564     1.0  25.775557  5407766.0  25.698615  26.801448   \n",
       "\n",
       "                  Low  \n",
       "Date                   \n",
       "2000-01-04  24.621427  \n",
       "2000-01-05  23.390358  \n",
       "2000-01-06  23.082588  \n",
       "2000-01-07  23.595532  \n",
       "2000-01-10  25.698615  "
      ]
     },
     "execution_count": 69,
     "metadata": {},
     "output_type": "execute_result"
    }
   ],
   "source": [
    "data.head(5)"
   ]
  },
  {
   "cell_type": "markdown",
   "id": "6e949836",
   "metadata": {},
   "source": [
    "## Creating a machine learning model\n",
    "\n",
    "Next, we'll create a machine learning model to see how accurately we can predict the stock price.\n",
    "\n",
    "Because we're dealing with time series data, we can't just use cross-validation to create predictions for the whole dataset.  This will cause leakage where data from the future will be used to predict past prices.  This doesn't match with the real world, and will make us think that our algorithm is much better than it actually is.\n",
    "\n",
    "Instead, we'll split the data sequentially.  We'll start off by predicting just the last 100 rows using the other rows.\n",
    "\n",
    "We'll use a random forest classifier to generate our predictions.  This is a good \"default\" model for a lot of applications, because it can pick up nonlinear relationships in the data, and is somewhat robust to overfitting with the right parameters."
   ]
  },
  {
   "cell_type": "code",
   "execution_count": 70,
   "id": "9b4d4c95",
   "metadata": {},
   "outputs": [
    {
     "data": {
      "text/plain": [
       "RandomForestClassifier(min_samples_split=200, random_state=1)"
      ]
     },
     "execution_count": 70,
     "metadata": {},
     "output_type": "execute_result"
    }
   ],
   "source": [
    "from sklearn.ensemble import RandomForestClassifier\n",
    "import numpy as np\n",
    "\n",
    "# Create a random forest classification model.  Set min_samples_split high to ensure we don't overfit.\n",
    "model = RandomForestClassifier(n_estimators=100, min_samples_split=200, random_state=1)\n",
    "\n",
    "# Create a train and test set\n",
    "train = data.iloc[:-100]\n",
    "test = data.iloc[-100:]\n",
    "\n",
    "model.fit(train[predictors], train[\"Target\"])"
   ]
  },
  {
   "cell_type": "markdown",
   "id": "3dddf1d6",
   "metadata": {},
   "source": [
    "Next, we'll need to check how accurate the model was.  Earlier, we mentioned using `precision` to measure error.  We can do this by using the `precision_score` function from scikit-learn."
   ]
  },
  {
   "cell_type": "code",
   "execution_count": 71,
   "id": "1226de5b",
   "metadata": {},
   "outputs": [
    {
     "data": {
      "text/plain": [
       "0.4166666666666667"
      ]
     },
     "execution_count": 71,
     "metadata": {},
     "output_type": "execute_result"
    }
   ],
   "source": [
    "from sklearn.metrics import precision_score\n",
    "\n",
    "# Evaluate error of predictions\n",
    "preds = model.predict(test[predictors])\n",
    "preds = pd.Series(preds, index=test.index)\n",
    "precision_score(test[\"Target\"], preds)"
   ]
  },
  {
   "cell_type": "markdown",
   "id": "d6588dde",
   "metadata": {},
   "source": [
    "So our model is directionally accurate 42% of the time.  This is even worse than a coin flip!  We can take a deeper look at the individual predictions and the actuals, and see where we're off."
   ]
  },
  {
   "cell_type": "code",
   "execution_count": 87,
   "id": "d2d86dca",
   "metadata": {},
   "outputs": [
    {
     "data": {
      "text/plain": [
       "<AxesSubplot:xlabel='Date'>"
      ]
     },
     "execution_count": 87,
     "metadata": {},
     "output_type": "execute_result"
    },
    {
     "data": {
      "image/png": "[encoded data removed]",
      "text/plain": [
       "<Figure size 432x288 with 1 Axes>"
      ]
     },
     "metadata": {
      "needs_background": "light"
     },
     "output_type": "display_data"
    }
   ],
   "source": [
    "combined = pd.concat({\"Target\": test[\"Target\"],\"Predictions\": preds}, axis=1)\n",
    "combined.plot()"
   ]
  },
  {
   "cell_type": "markdown",
   "id": "72289721",
   "metadata": {},
   "source": [
    "## Backtesting\n",
    "\n",
    "Our model isn't great, but luckily we can still improve it.  Before we do that, let's figure out how to make predictions across the entire dataset, not just the last 100 rows.  This will give us a more robust error estimate.  The last 100 days may have has atypical market conditions or other issues that make error metrics on those days unrealistic for future predictions (which are what we really care about).\n",
    "\n",
    "To do this, we'll need to backtest.  Backtesting ensures that we only use data from before the day that we're predicting.  If we use data from after the day we're predicting, the algorithm is unrealistic (in the real world, you won't be able to use future data to predict that past!).\n",
    "\n",
    "Our backtesting method will loop over the dataset, and train a model every 750 rows.  We'll make it a function so we can avoid rewriting the code if we want to backtest again.\n",
    "\n",
    "In the backtesting function, we will:\n",
    "\n",
    "* Split the training and test data\n",
    "* Train a model\n",
    "* Make predictions on the test data using `predict_proba` - this is because we want to really optimize for true positives.  By default, the threshold for splitting 0/1 is .5, but we can set it to different values to tweak the precision.  If we set it too high, we'll make fewer trades, but will have a lower potential for losses."
   ]
  },
  {
   "cell_type": "code",
   "execution_count": 73,
   "id": "fd0888bc",
   "metadata": {},
   "outputs": [],
   "source": [
    "def backtest(data, model, predictors, start=1000, step=100):\n",
    "    predictions = []\n",
    "    # Loop over the dataset in increments\n",
    "    for i in range(start, data.shape[0], step):\n",
    "        # Split into train and test sets\n",
    "        train = data.iloc[0:i].copy()\n",
    "        test = data.iloc[i:(i+step)].copy()\n",
    "        \n",
    "        # Fit the random forest model\n",
    "        model.fit(train[predictors], train[\"Target\"])\n",
    "        \n",
    "        # Make predictions\n",
    "        preds = model.predict_proba(test[predictors])[:,1]  #generates a 2 column array with probabilities for 0, 1 we only need the second column, hence why we are dropping the first \n",
    "        preds = pd.Series(preds, index=test.index)\n",
    "        preds[preds > .6] = 1\n",
    "        preds[preds<=.6] = 0\n",
    "        \n",
    "        # Combine predictions and test values\n",
    "        combined = pd.concat({\"Target\": test[\"Target\"],\"Predictions\": preds}, axis=1)\n",
    "        \n",
    "        predictions.append(combined)\n",
    "    \n",
    "    return pd.concat(predictions)"
   ]
  },
  {
   "cell_type": "code",
   "execution_count": 74,
   "id": "5b82fcf8",
   "metadata": {},
   "outputs": [],
   "source": [
    "predictions = backtest(data, model, predictors)"
   ]
  },
  {
   "cell_type": "code",
   "execution_count": 75,
   "id": "380dabdd",
   "metadata": {},
   "outputs": [
    {
     "data": {
      "text/plain": [
       "0.0    4146\n",
       "1.0     257\n",
       "Name: Predictions, dtype: int64"
      ]
     },
     "execution_count": 75,
     "metadata": {},
     "output_type": "execute_result"
    }
   ],
   "source": [
    "predictions[\"Predictions\"].value_counts()"
   ]
  },
  {
   "cell_type": "markdown",
   "id": "6c4d8ed6",
   "metadata": {},
   "source": [
    "As you can see, we're only making 68 trades.  This is because we used `.6` as a threshold for trading."
   ]
  },
  {
   "cell_type": "code",
   "execution_count": 76,
   "id": "a06c7cbb",
   "metadata": {},
   "outputs": [
    {
     "data": {
      "text/plain": [
       "0.5330739299610895"
      ]
     },
     "execution_count": 76,
     "metadata": {},
     "output_type": "execute_result"
    }
   ],
   "source": [
    "precision_score(predictions[\"Target\"], predictions[\"Predictions\"])"
   ]
  },
  {
   "cell_type": "markdown",
   "id": "19289943",
   "metadata": {},
   "source": [
    "## Improving accuracy\n",
    "\n",
    "The model isn't very accurate, but at least now we can make predictions across the entire history of the stock.  For this model to be useful, we have to get it to predict more accurately.\n",
    "\n",
    "Let's add some more predictors to see if we can improve accuracy.\n",
    "\n",
    "We'll add in some rolling means, so the model can evaluate the current price against recent prices.  We'll also look at the ratios between different indicators."
   ]
  },
  {
   "cell_type": "code",
   "execution_count": 77,
   "id": "25d0367a",
   "metadata": {},
   "outputs": [],
   "source": [
    "weekly_mean = data.rolling(7).mean()\n",
    "quarterly_mean = data.rolling(90).mean()\n",
    "annual_mean = data.rolling(365).mean()\n",
    "weekly_trend = data.shift(1).rolling(7).mean()[\"Target\"]"
   ]
  },
  {
   "cell_type": "code",
   "execution_count": 78,
   "id": "fadd30e8",
   "metadata": {},
   "outputs": [],
   "source": [
    "data[\"weekly_mean\"] = weekly_mean[\"Close\"] / data[\"Close\"]\n",
    "data[\"quarterly_mean\"] = quarterly_mean[\"Close\"] / data[\"Close\"]\n",
    "data[\"annual_mean\"] = annual_mean[\"Close\"] / data[\"Close\"]\n",
    "\n",
    "data[\"annual_weekly_mean\"] = data[\"annual_mean\"] / data[\"weekly_mean\"]\n",
    "data[\"annual_quarterly_mean\"] = data[\"annual_mean\"] / data[\"quarterly_mean\"]\n",
    "data[\"weekly_trend\"] = weekly_trend\n",
    "#helps the algorithm understand where today fits in a larger trend\n",
    "data[\"open_close_ratio\"] = data[\"Open\"] / data[\"Close\"]\n",
    "data[\"high_close_ratio\"] = data[\"High\"] / data[\"Close\"]\n",
    "data[\"low_close_ratio\"] = data[\"Low\"] / data[\"Close\"]"
   ]
  },
  {
   "cell_type": "code",
   "execution_count": 79,
   "id": "7631a947",
   "metadata": {},
   "outputs": [],
   "source": [
    "full_predictors = predictors + [\"weekly_mean\", \"quarterly_mean\", \"annual_mean\", \"annual_weekly_mean\", \"annual_quarterly_mean\", \"open_close_ratio\", \"high_close_ratio\", \"low_close_ratio\", \"weekly_trend\"]"
   ]
  },
  {
   "cell_type": "code",
   "execution_count": 80,
   "id": "14c95ef7",
   "metadata": {},
   "outputs": [],
   "source": [
    "predictions = backtest(data.iloc[365:], model, full_predictors)"
   ]
  },
  {
   "cell_type": "code",
   "execution_count": 81,
   "id": "788817a6",
   "metadata": {},
   "outputs": [
    {
     "data": {
      "text/plain": [
       "0.6376811594202898"
      ]
     },
     "execution_count": 81,
     "metadata": {},
     "output_type": "execute_result"
    }
   ],
   "source": [
    "precision_score(predictions[\"Target\"], predictions[\"Predictions\"])"
   ]
  },
  {
   "cell_type": "code",
   "execution_count": 82,
   "id": "e0e55439",
   "metadata": {},
   "outputs": [
    {
     "data": {
      "text/plain": [
       "0.0    3969\n",
       "1.0      69\n",
       "Name: Predictions, dtype: int64"
      ]
     },
     "execution_count": 82,
     "metadata": {},
     "output_type": "execute_result"
    }
   ],
   "source": [
    "# Show how many trades we would make\n",
    "\n",
    "predictions[\"Predictions\"].value_counts()"
   ]
  },
  {
   "cell_type": "code",
   "execution_count": 83,
   "id": "e29eb156",
   "metadata": {},
   "outputs": [
    {
     "data": {
      "text/plain": [
       "<AxesSubplot:xlabel='Date'>"
      ]
     },
     "execution_count": 83,
     "metadata": {},
     "output_type": "execute_result"
    },
    {
     "data": {
      "image/png": "[encoded data removed]",
      "text/plain": [
       "<Figure size 432x288 with 1 Axes>"
      ]
     },
     "metadata": {
      "needs_background": "light"
     },
     "output_type": "display_data"
    }
   ],
   "source": [
    "predictions.iloc[-100:].plot()"
   ]
  },
  {
   "cell_type": "code",
   "execution_count": null,
   "id": "28565e5f",
   "metadata": {},
   "outputs": [],
   "source": []
  }
 ],
 "metadata": {
  "kernelspec": {
   "display_name": "Python 3",
   "language": "python",
   "name": "python3"
  },
  "language_info": {
   "codemirror_mode": {
    "name": "ipython",
    "version": 3
   },
   "file_extension": ".py",
   "mimetype": "text/x-python",
   "name": "python",
   "nbconvert_exporter": "python",
   "pygments_lexer": "ipython3",
   "version": "3.8.8"
  },
  "toc": {
   "base_numbering": 1,
   "nav_menu": {},
   "number_sections": true,
   "sideBar": true,
   "skip_h1_title": false,
   "title_cell": "Table of Contents",
   "title_sidebar": "Contents",
   "toc_cell": false,
   "toc_position": {},
   "toc_section_display": true,
   "toc_window_display": false
  },
  "varInspector": {
   "cols": {
    "lenName": 16,
    "lenType": 16,
    "lenVar": 40
   },
   "kernels_config": {
    "python": {
     "delete_cmd_postfix": "",
     "delete_cmd_prefix": "del ",
     "library": "var_list.py",
     "varRefreshCmd": "print(var_dic_list())"
    },
    "r": {
     "delete_cmd_postfix": ") ",
     "delete_cmd_prefix": "rm(",
     "library": "var_list.r",
     "varRefreshCmd": "cat(var_dic_list()) "
    }
   },
   "types_to_exclude": [
    "module",
    "function",
    "builtin_function_or_method",
    "instance",
    "_Feature"
   ],
   "window_display": false
  }
 },
 "nbformat": 4,
 "nbformat_minor": 5
}
